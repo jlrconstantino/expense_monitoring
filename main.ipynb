{
 "cells": [
  {
   "cell_type": "code",
   "execution_count": 1,
   "metadata": {},
   "outputs": [
    {
     "ename": "OperationalError",
     "evalue": "could not connect to server: Connection refused (0x0000274D/10061)\n\tIs the server running on host \"localhost\" (::1) and accepting\n\tTCP/IP connections on port 5432?\ncould not connect to server: Connection refused (0x0000274D/10061)\n\tIs the server running on host \"localhost\" (127.0.0.1) and accepting\n\tTCP/IP connections on port 5432?\n",
     "output_type": "error",
     "traceback": [
      "\u001b[1;31m---------------------------------------------------------------------------\u001b[0m",
      "\u001b[1;31mOperationalError\u001b[0m                          Traceback (most recent call last)",
      "\u001b[1;32mc:\\Users\\JLcon\\Desktop\\Projeto Vestibule No Me\\00. Trabalhos\\expense_monitoring\\main.ipynb Célula: 1\u001b[0m in \u001b[0;36m<cell line: 4>\u001b[1;34m()\u001b[0m\n\u001b[0;32m      <a href='vscode-notebook-cell:/c%3A/Users/JLcon/Desktop/Projeto%20Vestibule%20No%20Me/00.%20Trabalhos/expense_monitoring/main.ipynb#W0sZmlsZQ%3D%3D?line=0'>1</a>\u001b[0m \u001b[39mimport\u001b[39;00m \u001b[39mpsycopg2\u001b[39;00m\n\u001b[0;32m      <a href='vscode-notebook-cell:/c%3A/Users/JLcon/Desktop/Projeto%20Vestibule%20No%20Me/00.%20Trabalhos/expense_monitoring/main.ipynb#W0sZmlsZQ%3D%3D?line=2'>3</a>\u001b[0m \u001b[39m# connection establishment\u001b[39;00m\n\u001b[1;32m----> <a href='vscode-notebook-cell:/c%3A/Users/JLcon/Desktop/Projeto%20Vestibule%20No%20Me/00.%20Trabalhos/expense_monitoring/main.ipynb#W0sZmlsZQ%3D%3D?line=3'>4</a>\u001b[0m conn \u001b[39m=\u001b[39m psycopg2\u001b[39m.\u001b[39;49mconnect(\n\u001b[0;32m      <a href='vscode-notebook-cell:/c%3A/Users/JLcon/Desktop/Projeto%20Vestibule%20No%20Me/00.%20Trabalhos/expense_monitoring/main.ipynb#W0sZmlsZQ%3D%3D?line=4'>5</a>\u001b[0m    database\u001b[39m=\u001b[39;49m\u001b[39m\"\u001b[39;49m\u001b[39mpostgres\u001b[39;49m\u001b[39m\"\u001b[39;49m,\n\u001b[0;32m      <a href='vscode-notebook-cell:/c%3A/Users/JLcon/Desktop/Projeto%20Vestibule%20No%20Me/00.%20Trabalhos/expense_monitoring/main.ipynb#W0sZmlsZQ%3D%3D?line=5'>6</a>\u001b[0m     user\u001b[39m=\u001b[39;49m\u001b[39m'\u001b[39;49m\u001b[39mpostgres\u001b[39;49m\u001b[39m'\u001b[39;49m,\n\u001b[0;32m      <a href='vscode-notebook-cell:/c%3A/Users/JLcon/Desktop/Projeto%20Vestibule%20No%20Me/00.%20Trabalhos/expense_monitoring/main.ipynb#W0sZmlsZQ%3D%3D?line=6'>7</a>\u001b[0m     password\u001b[39m=\u001b[39;49m\u001b[39m'\u001b[39;49m\u001b[39mpassword\u001b[39;49m\u001b[39m'\u001b[39;49m,\n\u001b[0;32m      <a href='vscode-notebook-cell:/c%3A/Users/JLcon/Desktop/Projeto%20Vestibule%20No%20Me/00.%20Trabalhos/expense_monitoring/main.ipynb#W0sZmlsZQ%3D%3D?line=7'>8</a>\u001b[0m     host\u001b[39m=\u001b[39;49m\u001b[39m'\u001b[39;49m\u001b[39mlocalhost\u001b[39;49m\u001b[39m'\u001b[39;49m,\n\u001b[0;32m      <a href='vscode-notebook-cell:/c%3A/Users/JLcon/Desktop/Projeto%20Vestibule%20No%20Me/00.%20Trabalhos/expense_monitoring/main.ipynb#W0sZmlsZQ%3D%3D?line=8'>9</a>\u001b[0m     port\u001b[39m=\u001b[39;49m \u001b[39m'\u001b[39;49m\u001b[39m5432\u001b[39;49m\u001b[39m'\u001b[39;49m\n\u001b[0;32m     <a href='vscode-notebook-cell:/c%3A/Users/JLcon/Desktop/Projeto%20Vestibule%20No%20Me/00.%20Trabalhos/expense_monitoring/main.ipynb#W0sZmlsZQ%3D%3D?line=9'>10</a>\u001b[0m )\n\u001b[0;32m     <a href='vscode-notebook-cell:/c%3A/Users/JLcon/Desktop/Projeto%20Vestibule%20No%20Me/00.%20Trabalhos/expense_monitoring/main.ipynb#W0sZmlsZQ%3D%3D?line=11'>12</a>\u001b[0m conn\u001b[39m.\u001b[39mautocommit \u001b[39m=\u001b[39m \u001b[39mTrue\u001b[39;00m\n\u001b[0;32m     <a href='vscode-notebook-cell:/c%3A/Users/JLcon/Desktop/Projeto%20Vestibule%20No%20Me/00.%20Trabalhos/expense_monitoring/main.ipynb#W0sZmlsZQ%3D%3D?line=13'>14</a>\u001b[0m \u001b[39m# Creating a cursor object\u001b[39;00m\n",
      "File \u001b[1;32mc:\\Users\\JLcon\\anaconda3\\envs\\standard_environment\\lib\\site-packages\\psycopg2\\__init__.py:127\u001b[0m, in \u001b[0;36mconnect\u001b[1;34m(dsn, connection_factory, cursor_factory, **kwargs)\u001b[0m\n\u001b[0;32m    124\u001b[0m     \u001b[39mraise\u001b[39;00m \u001b[39mTypeError\u001b[39;00m(\u001b[39m'\u001b[39m\u001b[39mmissing dsn and no parameters\u001b[39m\u001b[39m'\u001b[39m)\n\u001b[0;32m    126\u001b[0m dsn \u001b[39m=\u001b[39m _ext\u001b[39m.\u001b[39mmake_dsn(dsn, \u001b[39m*\u001b[39m\u001b[39m*\u001b[39mkwargs)\n\u001b[1;32m--> 127\u001b[0m conn \u001b[39m=\u001b[39m _connect(dsn, connection_factory\u001b[39m=\u001b[39mconnection_factory, \u001b[39m*\u001b[39m\u001b[39m*\u001b[39mkwasync)\n\u001b[0;32m    128\u001b[0m \u001b[39mif\u001b[39;00m cursor_factory \u001b[39mis\u001b[39;00m \u001b[39mnot\u001b[39;00m \u001b[39mNone\u001b[39;00m:\n\u001b[0;32m    129\u001b[0m     conn\u001b[39m.\u001b[39mcursor_factory \u001b[39m=\u001b[39m cursor_factory\n",
      "\u001b[1;31mOperationalError\u001b[0m: could not connect to server: Connection refused (0x0000274D/10061)\n\tIs the server running on host \"localhost\" (::1) and accepting\n\tTCP/IP connections on port 5432?\ncould not connect to server: Connection refused (0x0000274D/10061)\n\tIs the server running on host \"localhost\" (127.0.0.1) and accepting\n\tTCP/IP connections on port 5432?\n"
     ]
    }
   ],
   "source": [
    "import psycopg2\n",
    "  \n",
    "# connection establishment\n",
    "conn = psycopg2.connect(\n",
    "    database=\"postgres\",\n",
    "    user='postgres',\n",
    "    password='password',\n",
    "    host='localhost',\n",
    "    port= '5432'\n",
    ")\n",
    "  \n",
    "conn.autocommit = True\n",
    "  \n",
    "# Creating a cursor object\n",
    "cursor = conn.cursor()\n",
    "  \n",
    "# query to create a database \n",
    "sql = ''' CREATE database products ''';\n",
    "  \n",
    "# executing above query\n",
    "cursor.execute(sql)\n",
    "print(\"Database has been created successfully !!\");\n",
    "  \n",
    "# Closing the connection\n",
    "conn.close()"
   ]
  },
  {
   "cell_type": "code",
   "execution_count": null,
   "metadata": {},
   "outputs": [],
   "source": []
  }
 ],
 "metadata": {
  "kernelspec": {
   "display_name": "Python 3.9.12 ('standard_environment')",
   "language": "python",
   "name": "python3"
  },
  "language_info": {
   "codemirror_mode": {
    "name": "ipython",
    "version": 3
   },
   "file_extension": ".py",
   "mimetype": "text/x-python",
   "name": "python",
   "nbconvert_exporter": "python",
   "pygments_lexer": "ipython3",
   "version": "3.9.12"
  },
  "orig_nbformat": 4,
  "vscode": {
   "interpreter": {
    "hash": "8e287d07a5b23f74e16f88f4098195598a7184e1f27f2a36b009c5ead2189863"
   }
  }
 },
 "nbformat": 4,
 "nbformat_minor": 2
}
